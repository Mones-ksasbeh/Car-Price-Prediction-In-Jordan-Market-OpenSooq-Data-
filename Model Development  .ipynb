{
 "cells": [
  {
   "cell_type": "code",
   "execution_count": 1,
   "id": "4d52260e-5bb2-4b28-8e6b-9de22d2a999e",
   "metadata": {},
   "outputs": [],
   "source": [
    "import pandas as pd\n",
    "import numpy as np\n",
    "from sklearn.model_selection import train_test_split, RandomizedSearchCV, GridSearchCV, cross_val_score\n",
    "from sklearn.metrics import mean_squared_error, r2_score\n",
    "from sklearn.preprocessing import StandardScaler, OrdinalEncoder , LabelEncoder\n",
    "from sklearn.pipeline import Pipeline\n",
    "from sklearn.compose import ColumnTransformer\n",
    "from sklearn.tree import DecisionTreeRegressor\n",
    "from sklearn.ensemble import RandomForestRegressor\n",
    "from xgboost import XGBRegressor\n",
    "from scipy.stats import uniform, randint\n"
   ]
  },
  {
   "cell_type": "code",
   "execution_count": 2,
   "id": "8e0cb689-d4f8-4f53-9155-ac9957efa8ae",
   "metadata": {},
   "outputs": [],
   "source": [
    "Data1 = pd.read_csv(\"Jayed Prediction.csv\", encoding='ISO-8859-1')\n",
    "Data2 = pd.read_csv(\"Jayed Prediction 2.csv\", encoding='ISO-8859-1')\n",
    "\n",
    "Data = pd.concat([Data1, Data2], ignore_index=True)\n",
    "#Data.to_csv(r\"C:\\Users\\user\\OneDrive\\Desktop\\Car Price Prediction\\Full Data.csv\", index=False)\n",
    "\n",
    "X = Data.drop(columns=['Price'])\n",
    "y = Data['Price']\n",
    "\n",
    "X_train, X_test, y_train, y_test = train_test_split(X, y, test_size=0.2, random_state=42)"
   ]
  },
  {
   "cell_type": "code",
   "execution_count": 4,
   "id": "455b1e36-8434-4a23-bb4f-5564c3ef9c95",
   "metadata": {},
   "outputs": [],
   "source": [
    "categorical_features = ['Make', 'Model', 'Year', 'Transmission', 'Fuel', 'Condition', 'Paint', 'Jayed']\n",
    "numerical_features = ['Avarege Kilometars']\n",
    "\n",
    "# Define the preprocessing steps\n",
    "preprocessor = ColumnTransformer(\n",
    "    transformers=[\n",
    "        ('num', StandardScaler(), numerical_features),\n",
    "        ('cat', OrdinalEncoder(handle_unknown='use_encoded_value', unknown_value=-1), categorical_features)\n",
    "    ])\n",
    "\n",
    "X_train_processed = preprocessor.fit_transform(X_train)\n",
    "X_test_processed = preprocessor.transform(X_test)"
   ]
  },
  {
   "cell_type": "code",
   "execution_count": 5,
   "id": "442d2695-56d9-4622-ab45-922e54b7d1df",
   "metadata": {},
   "outputs": [],
   "source": [
    "def evaluate_model(model, X_test_processed, y_test):\n",
    "    y_pred = model.predict(X_test_processed)\n",
    "    mse = mean_squared_error(y_test, y_pred)\n",
    "    r2 = r2_score(y_test, y_pred)\n",
    "    print(f\"Mean Squared Error: {mse}\")\n",
    "    print(f\"R-squared: {r2}\")"
   ]
  },
  {
   "cell_type": "code",
   "execution_count": 7,
   "id": "90ca8150-45ee-410b-a585-d0c0298a84e8",
   "metadata": {},
   "outputs": [
    {
     "name": "stdout",
     "output_type": "stream",
     "text": [
      "Mean Squared Error: 13111162.169591468\n",
      "R-squared: 0.831535590178845\n",
      "Best Hyperparameters: {'learning_rate': 0.10507404463642235, 'max_depth': 6, 'min_child_weight': 5, 'n_estimators': 242, 'subsample': 0.8777755692715243}\n",
      "Cross-Validated Mean Squared Error: 12125587.623873685\n"
     ]
    }
   ],
   "source": [
    "# XGBoost Regressor with RandomizedSearchCV\n",
    "xgb_param_distributions = {\n",
    "    'n_estimators': randint(100, 250),\n",
    "    'learning_rate': uniform(0.01, 0.2),\n",
    "    'max_depth': randint(3, 20),\n",
    "    'min_child_weight': randint(1, 10),\n",
    "    'subsample': uniform(0.5, 0.5),\n",
    "}\n",
    "\n",
    "xgb_random_search = RandomizedSearchCV(XGBRegressor(random_state=42), xgb_param_distributions, n_iter=25, cv=5, random_state=42, n_jobs=-1)\n",
    "xgb_random_search.fit(X_train_processed, y_train)\n",
    "\n",
    "best_xgb_model = xgb_random_search.best_estimator_\n",
    "evaluate_model(best_xgb_model, X_test_processed, y_test)\n",
    "cross_val_scores = cross_val_score(best_xgb_model, X_train_processed, y_train, cv=5, scoring='neg_mean_squared_error')\n",
    "\n",
    "print(f\"Best Hyperparameters: {xgb_random_search.best_params_}\")\n",
    "print(f\"Cross-Validated Mean Squared Error: {-cross_val_scores.mean()}\")"
   ]
  },
  {
   "cell_type": "code",
   "execution_count": 9,
   "id": "adfc5abe-029e-4c5c-a495-cf5bc42c9be0",
   "metadata": {},
   "outputs": [
    {
     "name": "stdout",
     "output_type": "stream",
     "text": [
      "Mean Squared Error: 17246051.59005933\n",
      "R-squared: 0.7784066839167878\n",
      "Best Parameters:\n",
      "{'criterion': 'squared_error', 'max_depth': 15, 'min_samples_leaf': 4, 'min_samples_split': 2}\n"
     ]
    }
   ],
   "source": [
    "dt_param_grid = {\n",
    "    'max_depth': [3, 7,  15],\n",
    "    'min_samples_split': [2, 7, 10],\n",
    "    'min_samples_leaf': [ 2, 4, 6],\n",
    "    'criterion': ['squared_error', 'absolute_error']\n",
    "}\n",
    "\n",
    "dt_grid_search = GridSearchCV(DecisionTreeRegressor(), dt_param_grid, cv=5, n_jobs=-1)\n",
    "dt_grid_search.fit(X_train_processed, y_train)\n",
    "\n",
    "best_dt_model = dt_grid_search.best_estimator_\n",
    "evaluate_model(best_dt_model,X_test_processed, y_test)\n",
    "print(\"Best Parameters:\")\n",
    "print(dt_grid_search.best_params_)"
   ]
  },
  {
   "cell_type": "code",
   "execution_count": 10,
   "id": "7c16142e-ef04-4d08-8a33-75a553049429",
   "metadata": {},
   "outputs": [
    {
     "name": "stderr",
     "output_type": "stream",
     "text": [
      "C:\\Users\\user\\anaconda3\\Lib\\site-packages\\sklearn\\model_selection\\_validation.py:547: FitFailedWarning: \n",
      "10 fits failed out of a total of 125.\n",
      "The score on these train-test partitions for these parameters will be set to nan.\n",
      "If these failures are not expected, you can try to debug them by setting error_score='raise'.\n",
      "\n",
      "Below are more details about the failures:\n",
      "--------------------------------------------------------------------------------\n",
      "10 fits failed with the following error:\n",
      "Traceback (most recent call last):\n",
      "  File \"C:\\Users\\user\\anaconda3\\Lib\\site-packages\\sklearn\\model_selection\\_validation.py\", line 895, in _fit_and_score\n",
      "    estimator.fit(X_train, y_train, **fit_params)\n",
      "  File \"C:\\Users\\user\\anaconda3\\Lib\\site-packages\\sklearn\\base.py\", line 1467, in wrapper\n",
      "    estimator._validate_params()\n",
      "  File \"C:\\Users\\user\\anaconda3\\Lib\\site-packages\\sklearn\\base.py\", line 666, in _validate_params\n",
      "    validate_parameter_constraints(\n",
      "  File \"C:\\Users\\user\\anaconda3\\Lib\\site-packages\\sklearn\\utils\\_param_validation.py\", line 95, in validate_parameter_constraints\n",
      "    raise InvalidParameterError(\n",
      "sklearn.utils._param_validation.InvalidParameterError: The 'min_samples_split' parameter of RandomForestRegressor must be an int in the range [2, inf) or a float in the range (0.0, 1.0]. Got 1 instead.\n",
      "\n",
      "  warnings.warn(some_fits_failed_message, FitFailedWarning)\n",
      "C:\\Users\\user\\anaconda3\\Lib\\site-packages\\sklearn\\model_selection\\_search.py:1051: UserWarning: One or more of the test scores are non-finite: [0.71770811 0.74872814 0.80063301 0.65983051 0.74075741        nan\n",
      " 0.75257806 0.80321156 0.74731861 0.66002367 0.68798276 0.80185882\n",
      " 0.80845891 0.7037725  0.80292296        nan 0.75337394 0.75634646\n",
      " 0.75634568 0.75011003 0.70893317 0.74854492 0.74023389 0.60397328\n",
      " 0.58605901]\n",
      "  warnings.warn(\n"
     ]
    },
    {
     "name": "stdout",
     "output_type": "stream",
     "text": [
      "Mean Squared Error: 13507987.478159962\n",
      "R-squared: 0.8264368094189567\n",
      "Best Hyperparameters: {'bootstrap': True, 'max_depth': 16, 'min_samples_leaf': 2, 'min_samples_split': 2, 'n_estimators': 108}\n",
      "Cross-Validated Mean Squared Error: 13019213.581865495\n"
     ]
    }
   ],
   "source": [
    "rf_param_distributions = {\n",
    "    'n_estimators': randint(100, 300),\n",
    "    'max_depth': randint(5, 20),\n",
    "    'min_samples_split': randint(1, 15),\n",
    "    'min_samples_leaf': randint(1, 5),\n",
    "    'bootstrap': [True, False]\n",
    "}\n",
    "\n",
    "rf_random_search = RandomizedSearchCV(RandomForestRegressor(random_state=42), rf_param_distributions, n_iter=25, cv=5, random_state=42, n_jobs=-1)\n",
    "rf_random_search.fit(X_train_processed, y_train)\n",
    "\n",
    "best_rf_model = rf_random_search.best_estimator_\n",
    "evaluate_model(best_rf_model, X_test_processed , y_test)\n",
    "cross_val_scores = cross_val_score(best_rf_model, X_train_processed, y_train, cv=5, scoring='neg_mean_squared_error')\n",
    "\n",
    "print(f\"Best Hyperparameters: {rf_random_search.best_params_}\")\n",
    "print(f\"Cross-Validated Mean Squared Error: {-cross_val_scores.mean()}\")"
   ]
  }
 ],
 "metadata": {
  "kernelspec": {
   "display_name": "Python 3 (ipykernel)",
   "language": "python",
   "name": "python3"
  },
  "language_info": {
   "codemirror_mode": {
    "name": "ipython",
    "version": 3
   },
   "file_extension": ".py",
   "mimetype": "text/x-python",
   "name": "python",
   "nbconvert_exporter": "python",
   "pygments_lexer": "ipython3",
   "version": "3.11.5"
  }
 },
 "nbformat": 4,
 "nbformat_minor": 5
}
