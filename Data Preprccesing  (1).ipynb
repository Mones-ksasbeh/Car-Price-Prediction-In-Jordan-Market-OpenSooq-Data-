{
 "cells": [
  {
   "cell_type": "markdown",
   "id": "252478e0-ccf8-4eb3-9f17-a9e128cba79d",
   "metadata": {},
   "source": [
    "# <center>**Data Preprocessing**</center>\n",
    "---\n",
    "---"
   ]
  },
  {
   "cell_type": "markdown",
   "id": "7e720882-67b7-4879-993c-1b3b1db80399",
   "metadata": {},
   "source": [
    "### Import the necessary library"
   ]
  },
  {
   "cell_type": "code",
   "execution_count": null,
   "id": "bc432fd1-2a1d-449b-bff3-1a284e51d849",
   "metadata": {},
   "outputs": [],
   "source": [
    "import pandas as pd \n",
    "import numpy as np \n",
    "import re"
   ]
  },
  {
   "cell_type": "markdown",
   "id": "4a8d6590-338a-4b8e-adc9-abee6c21a4c3",
   "metadata": {},
   "source": [
    "### Loading the dataset and obtaining more information about it"
   ]
  },
  {
   "cell_type": "code",
   "execution_count": 2,
   "id": "aaf6cb58-5cf2-4bff-aa81-b033e2b38054",
   "metadata": {},
   "outputs": [],
   "source": [
    "Data =  pd.read_csv(\"Cars.csv\" , encoding='ISO-8859-1' )\n"
   ]
  },
  {
   "cell_type": "code",
   "execution_count": 3,
   "id": "27eb8a76-8c28-4433-8c73-b37fe1676431",
   "metadata": {},
   "outputs": [
    {
     "name": "stdout",
     "output_type": "stream",
     "text": [
      "<class 'pandas.core.frame.DataFrame'>\n",
      "RangeIndex: 45940 entries, 0 to 45939\n",
      "Data columns (total 12 columns):\n",
      " #   Column            Non-Null Count  Dtype \n",
      "---  ------            --------------  ----- \n",
      " 0   Make              45940 non-null  object\n",
      " 1   Model             45940 non-null  object\n",
      " 2   Year              45940 non-null  object\n",
      " 3   Transmission      45940 non-null  object\n",
      " 4   Fuel              45940 non-null  object\n",
      " 5   Condition         45518 non-null  object\n",
      " 6   Kilometers        45940 non-null  object\n",
      " 7   Paint             44459 non-null  object\n",
      " 8   Interior Options  45940 non-null  object\n",
      " 9   Exterior Options  45940 non-null  object\n",
      " 10  Jayed             16317 non-null  object\n",
      " 11  Price             45940 non-null  object\n",
      "dtypes: object(12)\n",
      "memory usage: 4.2+ MB\n"
     ]
    }
   ],
   "source": [
    "Data.info()"
   ]
  },
  {
   "cell_type": "code",
   "execution_count": 4,
   "id": "0770dff8-ce02-44ce-848a-479087048c1e",
   "metadata": {
    "scrolled": true
   },
   "outputs": [
    {
     "data": {
      "text/html": [
       "<div>\n",
       "<style scoped>\n",
       "    .dataframe tbody tr th:only-of-type {\n",
       "        vertical-align: middle;\n",
       "    }\n",
       "\n",
       "    .dataframe tbody tr th {\n",
       "        vertical-align: top;\n",
       "    }\n",
       "\n",
       "    .dataframe thead th {\n",
       "        text-align: right;\n",
       "    }\n",
       "</style>\n",
       "<table border=\"1\" class=\"dataframe\">\n",
       "  <thead>\n",
       "    <tr style=\"text-align: right;\">\n",
       "      <th></th>\n",
       "      <th>Make</th>\n",
       "      <th>Model</th>\n",
       "      <th>Year</th>\n",
       "      <th>Transmission</th>\n",
       "      <th>Fuel</th>\n",
       "      <th>Condition</th>\n",
       "      <th>Kilometers</th>\n",
       "      <th>Paint</th>\n",
       "      <th>Interior Options</th>\n",
       "      <th>Exterior Options</th>\n",
       "      <th>Jayed</th>\n",
       "      <th>Price</th>\n",
       "    </tr>\n",
       "  </thead>\n",
       "  <tbody>\n",
       "    <tr>\n",
       "      <th>count</th>\n",
       "      <td>45940</td>\n",
       "      <td>45940</td>\n",
       "      <td>45940</td>\n",
       "      <td>45940</td>\n",
       "      <td>45940</td>\n",
       "      <td>45518</td>\n",
       "      <td>45940</td>\n",
       "      <td>44459</td>\n",
       "      <td>45940</td>\n",
       "      <td>45940</td>\n",
       "      <td>16317</td>\n",
       "      <td>45940</td>\n",
       "    </tr>\n",
       "    <tr>\n",
       "      <th>unique</th>\n",
       "      <td>87</td>\n",
       "      <td>896</td>\n",
       "      <td>55</td>\n",
       "      <td>2</td>\n",
       "      <td>6</td>\n",
       "      <td>2</td>\n",
       "      <td>23</td>\n",
       "      <td>4</td>\n",
       "      <td>22476</td>\n",
       "      <td>7033</td>\n",
       "      <td>185</td>\n",
       "      <td>839</td>\n",
       "    </tr>\n",
       "    <tr>\n",
       "      <th>top</th>\n",
       "      <td>Hyundai</td>\n",
       "      <td>Avante</td>\n",
       "      <td>2017</td>\n",
       "      <td>Automatic</td>\n",
       "      <td>Gasoline</td>\n",
       "      <td>Used</td>\n",
       "      <td>0</td>\n",
       "      <td>Original Paint</td>\n",
       "      <td>Air Condition</td>\n",
       "      <td>Rim Wheels</td>\n",
       "      <td>??? ????</td>\n",
       "      <td>3,500 JOD</td>\n",
       "    </tr>\n",
       "    <tr>\n",
       "      <th>freq</th>\n",
       "      <td>10805</td>\n",
       "      <td>3090</td>\n",
       "      <td>2224</td>\n",
       "      <td>33940</td>\n",
       "      <td>29707</td>\n",
       "      <td>44204</td>\n",
       "      <td>7248</td>\n",
       "      <td>19774</td>\n",
       "      <td>1488</td>\n",
       "      <td>5226</td>\n",
       "      <td>5218</td>\n",
       "      <td>811</td>\n",
       "    </tr>\n",
       "  </tbody>\n",
       "</table>\n",
       "</div>"
      ],
      "text/plain": [
       "           Make   Model   Year Transmission      Fuel Condition Kilometers  \\\n",
       "count     45940   45940  45940        45940     45940     45518      45940   \n",
       "unique       87     896     55            2         6         2         23   \n",
       "top     Hyundai  Avante   2017    Automatic  Gasoline      Used          0   \n",
       "freq      10805    3090   2224        33940     29707     44204       7248   \n",
       "\n",
       "                 Paint Interior Options Exterior Options     Jayed      Price  \n",
       "count            44459            45940            45940     16317      45940  \n",
       "unique               4            22476             7033       185        839  \n",
       "top     Original Paint    Air Condition       Rim Wheels  ??? ????  3,500 JOD  \n",
       "freq             19774             1488             5226      5218        811  "
      ]
     },
     "execution_count": 4,
     "metadata": {},
     "output_type": "execute_result"
    }
   ],
   "source": [
    "Data.describe()"
   ]
  },
  {
   "cell_type": "markdown",
   "id": "f61bb4f0-ffc8-49f6-94da-775d1a5117bd",
   "metadata": {},
   "source": [
    "---\n",
    "## Data Cleansing \n",
    "### Drop Duplicates"
   ]
  },
  {
   "cell_type": "code",
   "execution_count": 5,
   "id": "3f8ffcd0-aabe-4325-a59f-2bbf32e1704f",
   "metadata": {},
   "outputs": [
    {
     "name": "stdout",
     "output_type": "stream",
     "text": [
      "<class 'pandas.core.frame.DataFrame'>\n",
      "Index: 34715 entries, 0 to 45939\n",
      "Data columns (total 12 columns):\n",
      " #   Column            Non-Null Count  Dtype \n",
      "---  ------            --------------  ----- \n",
      " 0   Make              34715 non-null  object\n",
      " 1   Model             34715 non-null  object\n",
      " 2   Year              34715 non-null  object\n",
      " 3   Transmission      34715 non-null  object\n",
      " 4   Fuel              34715 non-null  object\n",
      " 5   Condition         34346 non-null  object\n",
      " 6   Kilometers        34715 non-null  object\n",
      " 7   Paint             33614 non-null  object\n",
      " 8   Interior Options  34715 non-null  object\n",
      " 9   Exterior Options  34715 non-null  object\n",
      " 10  Jayed             12520 non-null  object\n",
      " 11  Price             34715 non-null  object\n",
      "dtypes: object(12)\n",
      "memory usage: 3.4+ MB\n"
     ]
    }
   ],
   "source": [
    "Data = Data.drop_duplicates()\n",
    "Data.info()"
   ]
  },
  {
   "cell_type": "markdown",
   "id": "14abf9dd-bc4f-4a98-850e-abd64d4b1995",
   "metadata": {},
   "source": [
    "---"
   ]
  },
  {
   "cell_type": "markdown",
   "id": "0ec5a062-202e-4e77-914b-67a95757c853",
   "metadata": {},
   "source": [
    "### Include the brands with a count of more than 30 in the dataset."
   ]
  },
  {
   "cell_type": "code",
   "execution_count": 6,
   "id": "e3eaa53a-fcc3-4330-a852-84d14314fe6c",
   "metadata": {},
   "outputs": [],
   "source": [
    "excluded_makes = [\"Daihatsu\", \"Lincoln\", \"Skoda\", \"Changan\", \"MG\", \n",
    "                  \"Cadillac\", \"Samsung\", \"Saab\", \"Porsche\", \n",
    "                  \"Chery\", \"Chrysler\", \"Infiniti\", \"SEAT\", \n",
    "                  \"Jaguar\", \"Subaru\"]\n",
    "\n",
    "# ~ stands for Not\n",
    "Data = Data[~Data['Make'].isin(excluded_makes)]\n"
   ]
  },
  {
   "cell_type": "markdown",
   "id": "e2c4d255-52c6-4b2f-b29c-f4209f2b37fd",
   "metadata": {},
   "source": [
    "---\n",
    "### If the value of the kilometers is not 0, it should be converted to \"Used\".      \n",
    "### for cars have Null condition and have kilometers equal to 0, but the condition is not used should be marked as \"New\"."
   ]
  },
  {
   "cell_type": "code",
   "execution_count": 7,
   "id": "246a549e-22dd-4c22-beed-a3b2383199b4",
   "metadata": {},
   "outputs": [
    {
     "data": {
      "text/plain": [
       "Condition\n",
       "Used    33568\n",
       "New       380\n",
       "Name: count, dtype: int64"
      ]
     },
     "execution_count": 7,
     "metadata": {},
     "output_type": "execute_result"
    }
   ],
   "source": [
    "Data['Condition'] = np.where(Data['Kilometers'] != '0', 'Used', Data['Condition'])\n",
    "Data['Condition'] = np.where((Data['Kilometers'] == '0') & (Data['Condition'] != \"Used\") , \"New\" , Data['Condition']) \n",
    "Data['Condition'].value_counts()"
   ]
  },
  {
   "cell_type": "markdown",
   "id": "4b44111b-d86b-4b50-99ff-9842d2004a9a",
   "metadata": {},
   "source": [
    "---\n",
    "### Split the kilometers coulmn into two columns so that we can calculate the average kilometers and convert it to float numbers."
   ]
  },
  {
   "cell_type": "code",
   "execution_count": 8,
   "id": "7bacf329-ca78-4ac2-a107-9738a53dce63",
   "metadata": {},
   "outputs": [],
   "source": [
    "Data[['Kilometers1', 'Kilometers2']] = Data['Kilometers'].str.split('-' , expand=True)\n",
    "\n",
    "Data['Kilometers1'] = Data['Kilometers1'].str.replace(',', '').astype(float)\n",
    "Data['Kilometers2'] = Data['Kilometers2'].str.replace(',', '').astype(float)\n"
   ]
  },
  {
   "cell_type": "code",
   "execution_count": 9,
   "id": "08021448-f73a-4f88-8863-badbd9d4ea15",
   "metadata": {},
   "outputs": [],
   "source": [
    "Data = Data.drop(\"Kilometers\", axis =  1)\n",
    "\n",
    "Data['Avarege Kilometers'] = np.where(Data['Kilometers1'] == 200000, \n",
    "                            200000, \n",
    "                            Data['Kilometers1'] + Data['Kilometers2'] / 2)\n",
    "\n",
    "# Fill the null with 0 for new cars\n",
    "Data = Data.drop([\"Kilometers1\", \"Kilometers2\"] , axis =1 )\n",
    "Data['Avarege Kilometers'] = Data['Avarege Kilometers'].fillna(0)\n"
   ]
  },
  {
   "cell_type": "code",
   "execution_count": 10,
   "id": "6a7d9ca1-4f2d-424a-9113-6250c3c6bbc4",
   "metadata": {},
   "outputs": [],
   "source": [
    "Data['Avarege Kilometers'] = np.where(\n",
    "    (Data['Avarege Kilometers'] == 0.0) & (Data['Condition'] == 'Used'),\n",
    "    109999.5,\n",
    "    Data['Avarege Kilometers']\n",
    ")"
   ]
  },
  {
   "cell_type": "markdown",
   "id": "79ffebf5-dd3c-4def-9474-1121c409b790",
   "metadata": {},
   "source": [
    "---\n",
    "### Handle the price coulmn convert it from string to integer number "
   ]
  },
  {
   "cell_type": "code",
   "execution_count": 11,
   "id": "6fb66b3a-faa5-4945-85c7-9bf465426b20",
   "metadata": {},
   "outputs": [
    {
     "data": {
      "text/html": [
       "<div>\n",
       "<style scoped>\n",
       "    .dataframe tbody tr th:only-of-type {\n",
       "        vertical-align: middle;\n",
       "    }\n",
       "\n",
       "    .dataframe tbody tr th {\n",
       "        vertical-align: top;\n",
       "    }\n",
       "\n",
       "    .dataframe thead th {\n",
       "        text-align: right;\n",
       "    }\n",
       "</style>\n",
       "<table border=\"1\" class=\"dataframe\">\n",
       "  <thead>\n",
       "    <tr style=\"text-align: right;\">\n",
       "      <th></th>\n",
       "      <th>Make</th>\n",
       "      <th>Model</th>\n",
       "      <th>Year</th>\n",
       "      <th>Transmission</th>\n",
       "      <th>Fuel</th>\n",
       "      <th>Condition</th>\n",
       "      <th>Paint</th>\n",
       "      <th>Interior Options</th>\n",
       "      <th>Exterior Options</th>\n",
       "      <th>Jayed</th>\n",
       "      <th>Price</th>\n",
       "      <th>Avarege Kilometers</th>\n",
       "    </tr>\n",
       "  </thead>\n",
       "  <tbody>\n",
       "    <tr>\n",
       "      <th>0</th>\n",
       "      <td>Mercedes Benz</td>\n",
       "      <td>Vito</td>\n",
       "      <td>2007</td>\n",
       "      <td>Automatic</td>\n",
       "      <td>Diesel</td>\n",
       "      <td>Used</td>\n",
       "      <td>Original Paint</td>\n",
       "      <td>Air Condition , ABS Brakes , Electric Windows ...</td>\n",
       "      <td>Rim Wheels , Rear Sensors , Electric Mirrors</td>\n",
       "      <td>??? ????, ??? ????</td>\n",
       "      <td>9350</td>\n",
       "      <td>200000.0</td>\n",
       "    </tr>\n",
       "  </tbody>\n",
       "</table>\n",
       "</div>"
      ],
      "text/plain": [
       "            Make Model  Year Transmission    Fuel Condition           Paint  \\\n",
       "0  Mercedes Benz  Vito  2007    Automatic  Diesel      Used  Original Paint   \n",
       "\n",
       "                                    Interior Options  \\\n",
       "0  Air Condition , ABS Brakes , Electric Windows ...   \n",
       "\n",
       "                               Exterior Options               Jayed  Price  \\\n",
       "0  Rim Wheels , Rear Sensors , Electric Mirrors  ??? ????, ??? ????   9350   \n",
       "\n",
       "   Avarege Kilometers  \n",
       "0            200000.0  "
      ]
     },
     "execution_count": 11,
     "metadata": {},
     "output_type": "execute_result"
    }
   ],
   "source": [
    "# Function to remove currency symbols and convert to float\n",
    "def clean_currency(value):\n",
    "    # Remove non-numeric characters using regex\n",
    "    value = re.sub(r'[^\\d.]', '', value)\n",
    "    return int(value) if value else None\n",
    "\n",
    "# Apply the function to the 'Amount' column\n",
    "Data['Price'] = Data['Price'].apply(clean_currency)\n",
    "\n",
    "Data.head(1)"
   ]
  },
  {
   "cell_type": "markdown",
   "id": "416382ae-dfc0-479e-894f-96287dc5837d",
   "metadata": {},
   "source": [
    "---\n",
    "### Filling the Nulls in Paint column with \"Original Paint\" if the Condition is New Otherwise \"Other\""
   ]
  },
  {
   "cell_type": "code",
   "execution_count": 12,
   "id": "7a16851b-7a70-4b57-9b4d-3dbd1cb874eb",
   "metadata": {},
   "outputs": [],
   "source": [
    "Data['Paint'] = np.where(Data['Paint'].isna() & (Data['Condition'] == 'New'), 'Original Paint', Data['Paint'])\n",
    "\n",
    "Data['Paint'] = Data['Paint'].fillna('Other')\n"
   ]
  },
  {
   "cell_type": "code",
   "execution_count": 13,
   "id": "c2ac9e3e-8f4f-45ba-81e4-504bf43476ab",
   "metadata": {},
   "outputs": [
    {
     "data": {
      "text/plain": [
       "Make                      0\n",
       "Model                     0\n",
       "Year                      0\n",
       "Transmission              0\n",
       "Fuel                      0\n",
       "Condition                 0\n",
       "Paint                     0\n",
       "Interior Options          0\n",
       "Exterior Options          0\n",
       "Jayed                 21677\n",
       "Price                     0\n",
       "Avarege Kilometers        0\n",
       "dtype: int64"
      ]
     },
     "execution_count": 13,
     "metadata": {},
     "output_type": "execute_result"
    }
   ],
   "source": [
    "Data.isna().sum()"
   ]
  },
  {
   "cell_type": "markdown",
   "id": "ea439540-8d2d-4ac8-8e4c-382881d24523",
   "metadata": {},
   "source": [
    "---\n",
    "### For Interior and Exterior Options I Convert the 10 for Interior and 7 for Exterior most significant Options in the car \n",
    "### price \"Based in ChatGBT\" to new coulmns and give it a True , False value if the option contains or not "
   ]
  },
  {
   "cell_type": "code",
   "execution_count": 14,
   "id": "0816c015-c2b6-4dac-8d0a-303133e9079a",
   "metadata": {},
   "outputs": [
    {
     "data": {
      "text/plain": [
       "Index(['Make', 'Model', 'Year', 'Transmission', 'Fuel', 'Condition', 'Paint',\n",
       "       'Interior Options', 'Exterior Options', 'Jayed', 'Price',\n",
       "       'Avarege Kilometers', 'Leather Seats', 'Navigation System',\n",
       "       'Heated Seats', 'Air Condition', 'Bluetooth', 'Cruise Control',\n",
       "       'Traction Control', 'Touch Screen', 'Android Auto',\n",
       "       'Heated Steering Wheel', 'Panoramic Roof', 'Sports Package',\n",
       "       'Keyless Entry', 'LED Lights', 'Rim Wheels', 'Xenon Lights', 'Sunroof'],\n",
       "      dtype='object')"
      ]
     },
     "execution_count": 14,
     "metadata": {},
     "output_type": "execute_result"
    }
   ],
   "source": [
    "Options = [\"Leather Seats\" , \"Navigation System\" , \"Heated Seats\" , \"Air Condition\" , \"Bluetooth\", \"Cruise Control\" ,\n",
    "           \"Traction Control\" , \"Touch Screen\" , \"Android Auto\" , \"Heated Steering Wheel\"]\n",
    "Options2 = [\"Panoramic Roof\" , \"Sports Package\" , \"Keyless Entry\" , \"LED Lights\" ,\"Rim Wheels\" ,\"Xenon Lights\" ,\"Sunroof\"]\n",
    "\n",
    "for O in Options : \n",
    "    Data[O] = Data['Interior Options'].str.contains(O).astype(bool)\n",
    "\n",
    "for O in Options2 : \n",
    "    Data[O] = Data['Exterior Options'].str.contains(O).astype(bool)\n",
    "\n",
    "Data.columns"
   ]
  },
  {
   "cell_type": "code",
   "execution_count": 15,
   "id": "c0c8975b-13ae-4803-961e-68f88f61c517",
   "metadata": {},
   "outputs": [],
   "source": [
    "Data = Data.drop([\"Interior Options\", \"Exterior Options\"] , axis =1 )\n"
   ]
  },
  {
   "cell_type": "code",
   "execution_count": 16,
   "id": "89f64dbc-a4ab-4bbd-a2b3-db79bfdab3ee",
   "metadata": {},
   "outputs": [
    {
     "data": {
      "text/html": [
       "<div>\n",
       "<style scoped>\n",
       "    .dataframe tbody tr th:only-of-type {\n",
       "        vertical-align: middle;\n",
       "    }\n",
       "\n",
       "    .dataframe tbody tr th {\n",
       "        vertical-align: top;\n",
       "    }\n",
       "\n",
       "    .dataframe thead th {\n",
       "        text-align: right;\n",
       "    }\n",
       "</style>\n",
       "<table border=\"1\" class=\"dataframe\">\n",
       "  <thead>\n",
       "    <tr style=\"text-align: right;\">\n",
       "      <th></th>\n",
       "      <th>Make</th>\n",
       "      <th>Model</th>\n",
       "      <th>Year</th>\n",
       "      <th>Transmission</th>\n",
       "      <th>Fuel</th>\n",
       "      <th>Condition</th>\n",
       "      <th>Paint</th>\n",
       "      <th>Jayed</th>\n",
       "      <th>Price</th>\n",
       "      <th>Avarege Kilometers</th>\n",
       "      <th>...</th>\n",
       "      <th>Touch Screen</th>\n",
       "      <th>Android Auto</th>\n",
       "      <th>Heated Steering Wheel</th>\n",
       "      <th>Panoramic Roof</th>\n",
       "      <th>Sports Package</th>\n",
       "      <th>Keyless Entry</th>\n",
       "      <th>LED Lights</th>\n",
       "      <th>Rim Wheels</th>\n",
       "      <th>Xenon Lights</th>\n",
       "      <th>Sunroof</th>\n",
       "    </tr>\n",
       "  </thead>\n",
       "  <tbody>\n",
       "    <tr>\n",
       "      <th>0</th>\n",
       "      <td>Mercedes Benz</td>\n",
       "      <td>Vito</td>\n",
       "      <td>2007</td>\n",
       "      <td>Automatic</td>\n",
       "      <td>Diesel</td>\n",
       "      <td>Used</td>\n",
       "      <td>Original Paint</td>\n",
       "      <td>??? ????, ??? ????</td>\n",
       "      <td>9350</td>\n",
       "      <td>200000.0</td>\n",
       "      <td>...</td>\n",
       "      <td>True</td>\n",
       "      <td>False</td>\n",
       "      <td>False</td>\n",
       "      <td>False</td>\n",
       "      <td>False</td>\n",
       "      <td>False</td>\n",
       "      <td>False</td>\n",
       "      <td>True</td>\n",
       "      <td>False</td>\n",
       "      <td>False</td>\n",
       "    </tr>\n",
       "  </tbody>\n",
       "</table>\n",
       "<p>1 rows × 27 columns</p>\n",
       "</div>"
      ],
      "text/plain": [
       "            Make Model  Year Transmission    Fuel Condition           Paint  \\\n",
       "0  Mercedes Benz  Vito  2007    Automatic  Diesel      Used  Original Paint   \n",
       "\n",
       "                Jayed  Price  Avarege Kilometers  ...  Touch Screen  \\\n",
       "0  ??? ????, ??? ????   9350            200000.0  ...          True   \n",
       "\n",
       "   Android Auto  Heated Steering Wheel  Panoramic Roof  Sports Package  \\\n",
       "0         False                  False           False           False   \n",
       "\n",
       "   Keyless Entry  LED Lights  Rim Wheels  Xenon Lights  Sunroof  \n",
       "0          False       False        True         False    False  \n",
       "\n",
       "[1 rows x 27 columns]"
      ]
     },
     "execution_count": 16,
     "metadata": {},
     "output_type": "execute_result"
    }
   ],
   "source": [
    "Data.head(1)"
   ]
  },
  {
   "cell_type": "code",
   "execution_count": 17,
   "id": "460a258e-c9d1-4eb8-97d5-6a82d23680bd",
   "metadata": {},
   "outputs": [],
   "source": [
    "Data.to_csv(r\"C:\\Users\\user\\OneDrive\\Desktop\\Car Price Prediction\\Data Post.csv\")"
   ]
  }
 ],
 "metadata": {
  "kernelspec": {
   "display_name": "Python 3 (ipykernel)",
   "language": "python",
   "name": "python3"
  },
  "language_info": {
   "codemirror_mode": {
    "name": "ipython",
    "version": 3
   },
   "file_extension": ".py",
   "mimetype": "text/x-python",
   "name": "python",
   "nbconvert_exporter": "python",
   "pygments_lexer": "ipython3",
   "version": "3.11.5"
  }
 },
 "nbformat": 4,
 "nbformat_minor": 5
}
