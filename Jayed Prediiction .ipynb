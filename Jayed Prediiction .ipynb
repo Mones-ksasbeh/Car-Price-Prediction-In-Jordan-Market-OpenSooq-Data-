{
 "cells": [
  {
   "cell_type": "code",
   "execution_count": null,
   "id": "b02bc978-9237-4f4f-8478-614c2d1db9a5",
   "metadata": {},
   "outputs": [],
   "source": [
    "import numpy as np\n",
    "import pandas as pd\n",
    "from sklearn.model_selection import train_test_split, RandomizedSearchCV\n",
    "from sklearn.preprocessing import StandardScaler, OneHotEncoder , OrdinalEncoder\n",
    "from sklearn.compose import ColumnTransformer\n",
    "from sklearn.tree import DecisionTreeClassifier\n",
    "from sklearn.pipeline import Pipeline\n",
    "from sklearn.metrics import classification_report, confusion_matrix , accuracy_score\n",
    "from scipy.stats import randint, uniform\n",
    "\n",
    "df = pd.read_csv(\"Jayed Prediction.csv\", encoding='ISO-8859-1')\n",
    "\n",
    "X = df.drop('Jayed', axis=1)\n",
    "y = df['Jayed']\n",
    "\n",
    "\n",
    "categorical_features = ['Make', 'Model', 'Year', 'Transmission', 'Fuel', 'Condition', 'Paint']\n",
    "numerical_features = ['Avarege Kilometars', 'Price']\n",
    "\n",
    "preprocessor = ColumnTransformer(\n",
    "    transformers=[\n",
    "        ('num', StandardScaler(), numerical_features),\n",
    "        ('cat', OrdinalEncoder(handle_unknown='use_encoded_value', unknown_value=-1), categorical_features)\n",
    "    ])"
   ]
  },
  {
   "cell_type": "code",
   "execution_count": null,
   "id": "d2a6af6a-ed3d-4fa0-bd8c-32f1037867f0",
   "metadata": {},
   "outputs": [],
   "source": [
    "model = DecisionTreeClassifier(random_state=42)\n",
    "\n",
    "pipeline = Pipeline(steps=[('preprocessor', preprocessor),\n",
    "                           ('model', model)])\n",
    "\n",
    "param_distributions = {\n",
    "    'model__max_depth': randint(3, 20),\n",
    "    'model__min_samples_split': randint(2, 10),\n",
    "    'model__min_samples_leaf': randint(1, 10),\n",
    "    'model__criterion': ['gini', 'entropy']  \n",
    "}\n",
    "\n",
    "random_search = RandomizedSearchCV(pipeline, param_distributions, n_iter=50, cv=5, random_state=42)\n",
    "X_train, X_test, y_train, y_test = train_test_split(X, y, test_size=0.2, random_state=42)\n",
    "random_search.fit(X_train, y_train)\n",
    "\n",
    "y_pred = random_search.predict(X_test)\n",
    "\n",
    "# Evaluate the model\n",
    "print(\"Best Parameters:\")\n",
    "print(random_search.best_params_)\n",
    "\n",
    "print(\"\\nAccuracy  --> :\")\n",
    "print(accuracy_score(y_test, y_pred))"
   ]
  },
  {
   "cell_type": "code",
   "execution_count": 3,
   "id": "8593c142-08f4-4e41-a89e-17e3dc781eea",
   "metadata": {},
   "outputs": [],
   "source": [
    "unlabeled_df = pd.read_csv(\"Unlabeld Jayed.csv\", encoding='ISO-8859-1')\n",
    "\n",
    "X_unlabeled = unlabeled_df\n",
    "\n",
    "y_unlabeled_pred = random_search.predict(X_unlabeled)\n",
    "\n",
    "unlabeled_df['Predicted_Jayed'] = y_unlabeled_pred\n",
    "\n",
    "# Save the predictions to a new CSV file\n",
    "unlabeled_df.to_csv(r\"C:\\Users\\user\\OneDrive\\Desktop\\Car Price Prediction\\Jayed Prediction 2.csv\" , index=False)"
   ]
  }
 ],
 "metadata": {
  "kernelspec": {
   "display_name": "Python 3 (ipykernel)",
   "language": "python",
   "name": "python3"
  },
  "language_info": {
   "codemirror_mode": {
    "name": "ipython",
    "version": 3
   },
   "file_extension": ".py",
   "mimetype": "text/x-python",
   "name": "python",
   "nbconvert_exporter": "python",
   "pygments_lexer": "ipython3",
   "version": "3.11.5"
  }
 },
 "nbformat": 4,
 "nbformat_minor": 5
}
